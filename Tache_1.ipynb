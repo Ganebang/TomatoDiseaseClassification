{
 "cells": [
  {
   "cell_type": "code",
   "execution_count": 1,
   "metadata": {},
   "outputs": [],
   "source": [
    "# import packages\n",
    "import matplotlib.pyplot as plt\n",
    "import torch\n",
    "import torch.nn as nn\n",
    "from torch.utils.data import DataLoader\n",
    "from torch.utils.data import random_split\n",
    "from torch.optim import Adam\n",
    "import torchvision\n",
    "from torchvision import transforms\n",
    "import time\n",
    "from tqdm import tqdm"
   ]
  },
  {
   "cell_type": "markdown",
   "metadata": {},
   "source": [
    "## 1. Prepare the Data"
   ]
  },
  {
   "cell_type": "code",
   "execution_count": 2,
   "metadata": {},
   "outputs": [],
   "source": [
    "# define train and validation data path\n",
    "train_data_path = 'datasets/tomato_custom/train'\n",
    "test_data_path = 'datasets/tomato_custom/val'"
   ]
  },
  {
   "cell_type": "code",
   "execution_count": 3,
   "metadata": {},
   "outputs": [],
   "source": [
    "# define the hyperparameters\n",
    "batch_size = 64\n",
    "train_split = 0.90\n",
    "val_split = 1 -  train_split"
   ]
  },
  {
   "cell_type": "code",
   "execution_count": 4,
   "metadata": {},
   "outputs": [],
   "source": [
    "# define the transformations done on the dataset\n",
    "transform = transforms.Compose([\n",
    "    transforms.Resize(64),\n",
    "    transforms.ToTensor(),\n",
    "    transforms.Normalize(mean=[0.4518, 0.4638, 0.4181],\n",
    "    std=[0.1836, 0.1602, 0.1991])\n",
    "])"
   ]
  },
  {
   "cell_type": "code",
   "execution_count": 5,
   "metadata": {},
   "outputs": [],
   "source": [
    "# load the initial data\n",
    "initial_data = torchvision.datasets.ImageFolder(\n",
    "    root=train_data_path, \n",
    "    transform=transform\n",
    ")\n",
    "\n",
    "test_data = torchvision.datasets.ImageFolder(\n",
    "    root=test_data_path, \n",
    "    transform=transform\n",
    ")"
   ]
  },
  {
   "cell_type": "code",
   "execution_count": 6,
   "metadata": {},
   "outputs": [
    {
     "name": "stdout",
     "output_type": "stream",
     "text": [
      "6691\n"
     ]
    }
   ],
   "source": [
    "print(len(initial_data))"
   ]
  },
  {
   "cell_type": "code",
   "execution_count": 7,
   "metadata": {},
   "outputs": [],
   "source": [
    "# split the initial data into train and test sets\n",
    "len_init = len(initial_data) - 1\n",
    "train_len = int(len_init * train_split)\n",
    "val_len = int(len_init * val_split) + 2\n",
    "train_data, val_data = random_split(initial_data, [train_len, val_len], generator=torch.Generator().manual_seed(42))"
   ]
  },
  {
   "cell_type": "code",
   "execution_count": 8,
   "metadata": {},
   "outputs": [],
   "source": [
    "# load the train, val and test sets\n",
    "\n",
    "train_loader = DataLoader(\n",
    "  train_data, \n",
    "  batch_size=batch_size, \n",
    "  shuffle=False\n",
    ")\n",
    "\n",
    "test_loader = DataLoader(\n",
    "  test_data, \n",
    "  batch_size=batch_size, \n",
    "  shuffle=False\n",
    ")\n",
    "\n",
    "val_loader = DataLoader(\n",
    "  val_data, \n",
    "  batch_size=batch_size, \n",
    "  shuffle=False\n",
    ")"
   ]
  },
  {
   "cell_type": "code",
   "execution_count": 9,
   "metadata": {},
   "outputs": [
    {
     "name": "stdout",
     "output_type": "stream",
     "text": [
      "6021 670 806\n"
     ]
    }
   ],
   "source": [
    "print(len(train_loader.dataset), len(val_loader.dataset), len(test_loader.dataset))"
   ]
  },
  {
   "cell_type": "code",
   "execution_count": 10,
   "metadata": {},
   "outputs": [],
   "source": [
    "# compute steps per epoch for training and validation set\n",
    "train_steps = len(train_loader.dataset) // batch_size\n",
    "val_steps = len(val_loader.dataset) // batch_size"
   ]
  },
  {
   "cell_type": "markdown",
   "metadata": {},
   "source": [
    "## 2. Define the model"
   ]
  },
  {
   "cell_type": "code",
   "execution_count": 11,
   "metadata": {},
   "outputs": [],
   "source": [
    "class TomatoDiseaseCNN(nn.Module):\n",
    "    '''\n",
    "        Convolutional Neural Network for tomato disease classification\n",
    "    '''\n",
    "    def __init__(self, in_channels=3, num_classes=10):\n",
    "        super(TomatoDiseaseCNN, self).__init__()\n",
    "        self.conv1 = nn.Conv2d(in_channels=3, out_channels=32, kernel_size=3, stride=1, padding=1)\n",
    "        self.act1 = nn.ReLU()\n",
    "        self.pool1 = nn.MaxPool2d(kernel_size=2)\n",
    "        self.conv2 = nn.Conv2d(in_channels=32, out_channels=64, kernel_size=3, stride=1, padding=1)\n",
    "        self.act2 = nn.ReLU()\n",
    "        self.pool2 = nn.MaxPool2d(kernel_size=2)\n",
    "        self.conv3 = nn.Conv2d(in_channels=64, out_channels=128, kernel_size=3, stride=1, padding=1)\n",
    "        self.act3 = nn.ReLU()\n",
    "        self.pool3 = nn.MaxPool2d(kernel_size=2)\n",
    "        self.fc1 = nn.Linear(128*8*8, 256)\n",
    "        self.act4 = nn.ReLU()\n",
    "        self.fc2 = nn.Linear(256, num_classes)\n",
    "        self.act5 = nn.Softmax(dim=1)\n",
    "\n",
    "    def forward(self, x):\n",
    "        x = self.conv1(x)\n",
    "        x = self.act1(x)\n",
    "        x = self.pool1(x)\n",
    "        x = self.conv2(x)\n",
    "        x = self.act2(x)\n",
    "        x = self.pool2(x)\n",
    "        x = self.conv3(x)\n",
    "        x = self.act3(x)\n",
    "        x = self.pool3(x)\n",
    "        x = x.view(-1, 128*8*8)\n",
    "        x = self.fc1(x)\n",
    "        x = self.act4(x)\n",
    "        x = self.fc2(x)\n",
    "        x = self.act5(x)\n",
    "        return x"
   ]
  },
  {
   "cell_type": "code",
   "execution_count": 12,
   "metadata": {},
   "outputs": [],
   "source": [
    "# choose the device on which we can train the mode\n",
    "device = torch.device(\"cuda\" if torch.cuda.is_available() else \"cpu\")\n",
    "model = TomatoDiseaseCNN(3, 10).to(device)\n",
    "# define the loss and the optimier\n",
    "criterion = nn.CrossEntropyLoss()\n",
    "optimizer = Adam(model.parameters(), lr=0.001)"
   ]
  },
  {
   "cell_type": "markdown",
   "metadata": {},
   "source": [
    "## 3. Train the model"
   ]
  },
  {
   "cell_type": "code",
   "execution_count": 13,
   "metadata": {},
   "outputs": [],
   "source": [
    "# define train model \n",
    "def train_model(model, optimizer, loss_fn, train_loader, val_loader, epochs=10, device=device):\n",
    "    # initialize the dict to store the history of the model\n",
    "    history = {\n",
    "        \"train_loss\": [],\n",
    "        \"train_acc\": [],\n",
    "        \"val_loss\": [],\n",
    "        \"val_acc\": []\n",
    "    }\n",
    "    for epoch in range(epochs):\n",
    "        # set the model in training mode\n",
    "        model.train()\n",
    "        # initialise the training and validation loss\n",
    "        train_loss, val_loss = 0, 0\n",
    "        # initialize numbers of correct train and correct validation\n",
    "        correct_train, correct_val = 0, 0\n",
    "        for data, target in tqdm(train_loader,  ascii =\"  ...=\"):\n",
    "            data = data.to(device)\n",
    "            target = target.to(device)\n",
    "            # set parameters gradients to zero\n",
    "            optimizer.zero_grad()\n",
    "            # forward pass\n",
    "            output = model(data)\n",
    "            # compute the loss\n",
    "            loss = loss_fn(output, target)\n",
    "            # compute the loss gradients w. r. t. parameters\n",
    "            loss.backward()\n",
    "            # update the parameters\n",
    "            optimizer.step()\n",
    "            train_loss += loss\n",
    "            # _, correct = output.max(1)\n",
    "            # correct_train += (correct == target).sum()\n",
    "            correct_train +=(output.argmax(1) ==target).type(torch.float).sum().item()\n",
    "        with torch.no_grad():\n",
    "            # set the model in evaluation mode\n",
    "            model.eval()\n",
    "            for data, target in val_loader:\n",
    "                data = data.to(device)\n",
    "                target = target.to(device)\n",
    "                # forward from validation data\n",
    "                output = model(data)\n",
    "                loss = loss_fn(output, target)\n",
    "                val_loss += loss\n",
    "                correct_val +=(output.argmax(1) ==target).type(torch.float).sum().item()\n",
    "        # compute the average of traning and validation loss\n",
    "        train_loss_avg = train_loss / train_steps\n",
    "        # training_loss /= len(train_loader)\n",
    "        val_loss_avg = val_loss / val_steps\n",
    "        # valid_loss /= len(val_loader)\n",
    "\n",
    "        # compute the accuracy of training and validation set\n",
    "        # calculate the training and validation accuracy\n",
    "        correct_train = correct_train / len(train_loader.dataset)\n",
    "        correct_val = correct_val / len(val_loader.dataset)\n",
    "        # update our training history\n",
    "        history[\"train_loss\"].append(train_loss_avg.cpu().detach().numpy())\n",
    "        history[\"train_acc\"].append(correct_train)\n",
    "        history[\"val_loss\"].append(val_loss_avg.cpu().detach().numpy())\n",
    "        history[\"val_acc\"].append(correct_val)\n",
    "\n",
    "        # print the model training and validation information\n",
    "        print(\"Epoch: {}/{}\".format(epoch + 1, epochs))\n",
    "        print(\"train loss: {:.6f} - train accuracy: {:.4f}\".format(train_loss_avg, correct_train))\n",
    "        print(\"val loss: {:.6f} - val accuracy: {:.4f}\".format(val_loss_avg, correct_val))\n",
    "    return history"
   ]
  },
  {
   "cell_type": "code",
   "execution_count": 14,
   "metadata": {},
   "outputs": [
    {
     "name": "stderr",
     "output_type": "stream",
     "text": [
      "100%|==========| 95/95 [00:33<00:00,  2.82it/s]\n",
      "  0%|          | 0/95 [00:00<?, ?it/s]"
     ]
    },
    {
     "name": "stdout",
     "output_type": "stream",
     "text": [
      "Epoch: 1/80\n",
      "train loss: 2.076870 - train accuracy: 0.4031\n",
      "val loss: 2.208071 - val accuracy: 0.4582\n"
     ]
    },
    {
     "name": "stderr",
     "output_type": "stream",
     "text": [
      "100%|==========| 95/95 [00:25<00:00,  3.77it/s]\n",
      "  0%|          | 0/95 [00:00<?, ?it/s]"
     ]
    },
    {
     "name": "stdout",
     "output_type": "stream",
     "text": [
      "Epoch: 2/80\n",
      "train loss: 1.886419 - train accuracy: 0.5946\n",
      "val loss: 2.021884 - val accuracy: 0.6224\n"
     ]
    },
    {
     "name": "stderr",
     "output_type": "stream",
     "text": [
      "100%|==========| 95/95 [00:24<00:00,  3.83it/s]\n",
      "  0%|          | 0/95 [00:00<?, ?it/s]"
     ]
    },
    {
     "name": "stdout",
     "output_type": "stream",
     "text": [
      "Epoch: 3/80\n",
      "train loss: 1.813728 - train accuracy: 0.6660\n",
      "val loss: 1.968037 - val accuracy: 0.6701\n"
     ]
    },
    {
     "name": "stderr",
     "output_type": "stream",
     "text": [
      "100%|==========| 95/95 [00:24<00:00,  3.82it/s]\n",
      "  0%|          | 0/95 [00:00<?, ?it/s]"
     ]
    },
    {
     "name": "stdout",
     "output_type": "stream",
     "text": [
      "Epoch: 4/80\n",
      "train loss: 1.783248 - train accuracy: 0.6954\n",
      "val loss: 1.977617 - val accuracy: 0.6687\n"
     ]
    },
    {
     "name": "stderr",
     "output_type": "stream",
     "text": [
      "100%|==========| 95/95 [00:24<00:00,  3.85it/s]\n",
      "  0%|          | 0/95 [00:00<?, ?it/s]"
     ]
    },
    {
     "name": "stdout",
     "output_type": "stream",
     "text": [
      "Epoch: 5/80\n",
      "train loss: 1.765701 - train accuracy: 0.7115\n",
      "val loss: 1.922776 - val accuracy: 0.7164\n"
     ]
    },
    {
     "name": "stderr",
     "output_type": "stream",
     "text": [
      "100%|==========| 95/95 [00:27<00:00,  3.41it/s]\n",
      "  0%|          | 0/95 [00:00<?, ?it/s]"
     ]
    },
    {
     "name": "stdout",
     "output_type": "stream",
     "text": [
      "Epoch: 6/80\n",
      "train loss: 1.729404 - train accuracy: 0.7517\n",
      "val loss: 1.960907 - val accuracy: 0.6791\n"
     ]
    },
    {
     "name": "stderr",
     "output_type": "stream",
     "text": [
      "100%|==========| 95/95 [00:29<00:00,  3.18it/s]\n",
      "  0%|          | 0/95 [00:00<?, ?it/s]"
     ]
    },
    {
     "name": "stdout",
     "output_type": "stream",
     "text": [
      "Epoch: 7/80\n",
      "train loss: 1.707402 - train accuracy: 0.7718\n",
      "val loss: 1.904055 - val accuracy: 0.7269\n"
     ]
    },
    {
     "name": "stderr",
     "output_type": "stream",
     "text": [
      "100%|==========| 95/95 [00:34<00:00,  2.78it/s]\n",
      "  0%|          | 0/95 [00:00<?, ?it/s]"
     ]
    },
    {
     "name": "stdout",
     "output_type": "stream",
     "text": [
      "Epoch: 8/80\n",
      "train loss: 1.701312 - train accuracy: 0.7768\n",
      "val loss: 1.822637 - val accuracy: 0.8045\n"
     ]
    },
    {
     "name": "stderr",
     "output_type": "stream",
     "text": [
      "100%|==========| 95/95 [00:33<00:00,  2.80it/s]\n",
      "  0%|          | 0/95 [00:00<?, ?it/s]"
     ]
    },
    {
     "name": "stdout",
     "output_type": "stream",
     "text": [
      "Epoch: 9/80\n",
      "train loss: 1.678015 - train accuracy: 0.8007\n",
      "val loss: 1.848899 - val accuracy: 0.7821\n"
     ]
    },
    {
     "name": "stderr",
     "output_type": "stream",
     "text": [
      "100%|==========| 95/95 [00:29<00:00,  3.21it/s]\n",
      "  0%|          | 0/95 [00:00<?, ?it/s]"
     ]
    },
    {
     "name": "stdout",
     "output_type": "stream",
     "text": [
      "Epoch: 10/80\n",
      "train loss: 1.653179 - train accuracy: 0.8268\n",
      "val loss: 1.803185 - val accuracy: 0.8179\n"
     ]
    },
    {
     "name": "stderr",
     "output_type": "stream",
     "text": [
      "100%|==========| 95/95 [00:47<00:00,  2.01it/s]\n",
      "  0%|          | 0/95 [00:00<?, ?it/s]"
     ]
    },
    {
     "name": "stdout",
     "output_type": "stream",
     "text": [
      "Epoch: 11/80\n",
      "train loss: 1.704471 - train accuracy: 0.7736\n",
      "val loss: 1.800653 - val accuracy: 0.8239\n"
     ]
    },
    {
     "name": "stderr",
     "output_type": "stream",
     "text": [
      "100%|==========| 95/95 [01:11<00:00,  1.34it/s]\n",
      "  0%|          | 0/95 [00:00<?, ?it/s]"
     ]
    },
    {
     "name": "stdout",
     "output_type": "stream",
     "text": [
      "Epoch: 12/80\n",
      "train loss: 1.632868 - train accuracy: 0.8455\n",
      "val loss: 1.847246 - val accuracy: 0.7836\n"
     ]
    },
    {
     "name": "stderr",
     "output_type": "stream",
     "text": [
      "100%|==========| 95/95 [00:29<00:00,  3.21it/s]\n",
      "  0%|          | 0/95 [00:00<?, ?it/s]"
     ]
    },
    {
     "name": "stdout",
     "output_type": "stream",
     "text": [
      "Epoch: 13/80\n",
      "train loss: 1.618604 - train accuracy: 0.8588\n",
      "val loss: 1.814910 - val accuracy: 0.8119\n"
     ]
    },
    {
     "name": "stderr",
     "output_type": "stream",
     "text": [
      "100%|==========| 95/95 [00:31<00:00,  3.03it/s]\n",
      "  0%|          | 0/95 [00:00<?, ?it/s]"
     ]
    },
    {
     "name": "stdout",
     "output_type": "stream",
     "text": [
      "Epoch: 14/80\n",
      "train loss: 1.599169 - train accuracy: 0.8819\n",
      "val loss: 1.759598 - val accuracy: 0.8627\n"
     ]
    },
    {
     "name": "stderr",
     "output_type": "stream",
     "text": [
      "100%|==========| 95/95 [00:32<00:00,  2.95it/s]\n",
      "  0%|          | 0/95 [00:00<?, ?it/s]"
     ]
    },
    {
     "name": "stdout",
     "output_type": "stream",
     "text": [
      "Epoch: 15/80\n",
      "train loss: 1.594507 - train accuracy: 0.8852\n",
      "val loss: 1.780745 - val accuracy: 0.8388\n"
     ]
    },
    {
     "name": "stderr",
     "output_type": "stream",
     "text": [
      "100%|==========| 95/95 [00:30<00:00,  3.16it/s]\n",
      "  0%|          | 0/95 [00:00<?, ?it/s]"
     ]
    },
    {
     "name": "stdout",
     "output_type": "stream",
     "text": [
      "Epoch: 16/80\n",
      "train loss: 1.590531 - train accuracy: 0.8877\n",
      "val loss: 1.784627 - val accuracy: 0.8418\n"
     ]
    },
    {
     "name": "stderr",
     "output_type": "stream",
     "text": [
      "100%|==========| 95/95 [00:30<00:00,  3.10it/s]\n",
      "  0%|          | 0/95 [00:00<?, ?it/s]"
     ]
    },
    {
     "name": "stdout",
     "output_type": "stream",
     "text": [
      "Epoch: 17/80\n",
      "train loss: 1.594924 - train accuracy: 0.8837\n",
      "val loss: 1.743269 - val accuracy: 0.8761\n"
     ]
    },
    {
     "name": "stderr",
     "output_type": "stream",
     "text": [
      "100%|==========| 95/95 [00:30<00:00,  3.16it/s]\n",
      "  0%|          | 0/95 [00:00<?, ?it/s]"
     ]
    },
    {
     "name": "stdout",
     "output_type": "stream",
     "text": [
      "Epoch: 18/80\n",
      "train loss: 1.594594 - train accuracy: 0.8831\n",
      "val loss: 1.748323 - val accuracy: 0.8761\n"
     ]
    },
    {
     "name": "stderr",
     "output_type": "stream",
     "text": [
      "100%|==========| 95/95 [00:28<00:00,  3.38it/s]\n",
      "  0%|          | 0/95 [00:00<?, ?it/s]"
     ]
    },
    {
     "name": "stdout",
     "output_type": "stream",
     "text": [
      "Epoch: 19/80\n",
      "train loss: 1.572349 - train accuracy: 0.9063\n",
      "val loss: 1.702455 - val accuracy: 0.9149\n"
     ]
    },
    {
     "name": "stderr",
     "output_type": "stream",
     "text": [
      "100%|==========| 95/95 [00:28<00:00,  3.36it/s]\n",
      "  0%|          | 0/95 [00:00<?, ?it/s]"
     ]
    },
    {
     "name": "stdout",
     "output_type": "stream",
     "text": [
      "Epoch: 20/80\n",
      "train loss: 1.570802 - train accuracy: 0.9085\n",
      "val loss: 1.738513 - val accuracy: 0.8836\n"
     ]
    },
    {
     "name": "stderr",
     "output_type": "stream",
     "text": [
      "100%|==========| 95/95 [00:30<00:00,  3.17it/s]\n",
      "  0%|          | 0/95 [00:00<?, ?it/s]"
     ]
    },
    {
     "name": "stdout",
     "output_type": "stream",
     "text": [
      "Epoch: 21/80\n",
      "train loss: 1.570886 - train accuracy: 0.9072\n",
      "val loss: 1.741462 - val accuracy: 0.8776\n"
     ]
    },
    {
     "name": "stderr",
     "output_type": "stream",
     "text": [
      "100%|==========| 95/95 [00:28<00:00,  3.28it/s]\n",
      "  0%|          | 0/95 [00:00<?, ?it/s]"
     ]
    },
    {
     "name": "stdout",
     "output_type": "stream",
     "text": [
      "Epoch: 22/80\n",
      "train loss: 1.566058 - train accuracy: 0.9125\n",
      "val loss: 1.731905 - val accuracy: 0.8896\n"
     ]
    },
    {
     "name": "stderr",
     "output_type": "stream",
     "text": [
      "100%|==========| 95/95 [00:31<00:00,  2.99it/s]\n",
      "  0%|          | 0/95 [00:00<?, ?it/s]"
     ]
    },
    {
     "name": "stdout",
     "output_type": "stream",
     "text": [
      "Epoch: 23/80\n",
      "train loss: 1.555640 - train accuracy: 0.9233\n",
      "val loss: 1.717720 - val accuracy: 0.8985\n"
     ]
    },
    {
     "name": "stderr",
     "output_type": "stream",
     "text": [
      "100%|==========| 95/95 [00:29<00:00,  3.27it/s]\n",
      "  0%|          | 0/95 [00:00<?, ?it/s]"
     ]
    },
    {
     "name": "stdout",
     "output_type": "stream",
     "text": [
      "Epoch: 24/80\n",
      "train loss: 1.551341 - train accuracy: 0.9269\n",
      "val loss: 1.713429 - val accuracy: 0.9045\n"
     ]
    },
    {
     "name": "stderr",
     "output_type": "stream",
     "text": [
      "100%|==========| 95/95 [00:38<00:00,  2.49it/s]\n",
      "  0%|          | 0/95 [00:00<?, ?it/s]"
     ]
    },
    {
     "name": "stdout",
     "output_type": "stream",
     "text": [
      "Epoch: 25/80\n",
      "train loss: 1.549539 - train accuracy: 0.9291\n",
      "val loss: 1.724894 - val accuracy: 0.8955\n"
     ]
    },
    {
     "name": "stderr",
     "output_type": "stream",
     "text": [
      "100%|==========| 95/95 [00:41<00:00,  2.28it/s]\n",
      "  0%|          | 0/95 [00:00<?, ?it/s]"
     ]
    },
    {
     "name": "stdout",
     "output_type": "stream",
     "text": [
      "Epoch: 26/80\n",
      "train loss: 1.549677 - train accuracy: 0.9287\n",
      "val loss: 1.723793 - val accuracy: 0.8925\n"
     ]
    },
    {
     "name": "stderr",
     "output_type": "stream",
     "text": [
      "100%|==========| 95/95 [00:26<00:00,  3.59it/s]\n",
      "  0%|          | 0/95 [00:00<?, ?it/s]"
     ]
    },
    {
     "name": "stdout",
     "output_type": "stream",
     "text": [
      "Epoch: 27/80\n",
      "train loss: 1.553573 - train accuracy: 0.9258\n",
      "val loss: 1.721657 - val accuracy: 0.8970\n"
     ]
    },
    {
     "name": "stderr",
     "output_type": "stream",
     "text": [
      "100%|==========| 95/95 [00:27<00:00,  3.41it/s]\n",
      "  0%|          | 0/95 [00:00<?, ?it/s]"
     ]
    },
    {
     "name": "stdout",
     "output_type": "stream",
     "text": [
      "Epoch: 28/80\n",
      "train loss: 1.545175 - train accuracy: 0.9341\n",
      "val loss: 1.709441 - val accuracy: 0.9090\n"
     ]
    },
    {
     "name": "stderr",
     "output_type": "stream",
     "text": [
      "100%|==========| 95/95 [00:28<00:00,  3.36it/s]\n",
      "  0%|          | 0/95 [00:00<?, ?it/s]"
     ]
    },
    {
     "name": "stdout",
     "output_type": "stream",
     "text": [
      "Epoch: 29/80\n",
      "train loss: 1.539249 - train accuracy: 0.9395\n",
      "val loss: 1.713450 - val accuracy: 0.9045\n"
     ]
    },
    {
     "name": "stderr",
     "output_type": "stream",
     "text": [
      "100%|==========| 95/95 [00:27<00:00,  3.46it/s]\n",
      "  0%|          | 0/95 [00:00<?, ?it/s]"
     ]
    },
    {
     "name": "stdout",
     "output_type": "stream",
     "text": [
      "Epoch: 30/80\n",
      "train loss: 1.544033 - train accuracy: 0.9347\n",
      "val loss: 1.730334 - val accuracy: 0.8836\n"
     ]
    },
    {
     "name": "stderr",
     "output_type": "stream",
     "text": [
      "100%|==========| 95/95 [00:27<00:00,  3.48it/s]\n",
      "  0%|          | 0/95 [00:00<?, ?it/s]"
     ]
    },
    {
     "name": "stdout",
     "output_type": "stream",
     "text": [
      "Epoch: 31/80\n",
      "train loss: 1.544098 - train accuracy: 0.9349\n",
      "val loss: 1.720771 - val accuracy: 0.8925\n"
     ]
    },
    {
     "name": "stderr",
     "output_type": "stream",
     "text": [
      "100%|==========| 95/95 [00:27<00:00,  3.49it/s]\n",
      "  0%|          | 0/95 [00:00<?, ?it/s]"
     ]
    },
    {
     "name": "stdout",
     "output_type": "stream",
     "text": [
      "Epoch: 32/80\n",
      "train loss: 1.543566 - train accuracy: 0.9356\n",
      "val loss: 1.706341 - val accuracy: 0.9090\n"
     ]
    },
    {
     "name": "stderr",
     "output_type": "stream",
     "text": [
      "100%|==========| 95/95 [00:29<00:00,  3.24it/s]\n",
      "  0%|          | 0/95 [00:00<?, ?it/s]"
     ]
    },
    {
     "name": "stdout",
     "output_type": "stream",
     "text": [
      "Epoch: 33/80\n",
      "train loss: 1.539385 - train accuracy: 0.9397\n",
      "val loss: 1.716057 - val accuracy: 0.9000\n"
     ]
    },
    {
     "name": "stderr",
     "output_type": "stream",
     "text": [
      "100%|==========| 95/95 [00:27<00:00,  3.51it/s]\n",
      "  0%|          | 0/95 [00:00<?, ?it/s]"
     ]
    },
    {
     "name": "stdout",
     "output_type": "stream",
     "text": [
      "Epoch: 34/80\n",
      "train loss: 1.540501 - train accuracy: 0.9377\n",
      "val loss: 1.700385 - val accuracy: 0.9119\n"
     ]
    },
    {
     "name": "stderr",
     "output_type": "stream",
     "text": [
      "100%|==========| 95/95 [00:27<00:00,  3.44it/s]\n",
      "  0%|          | 0/95 [00:00<?, ?it/s]"
     ]
    },
    {
     "name": "stdout",
     "output_type": "stream",
     "text": [
      "Epoch: 35/80\n",
      "train loss: 1.552411 - train accuracy: 0.9264\n",
      "val loss: 1.697069 - val accuracy: 0.9134\n"
     ]
    },
    {
     "name": "stderr",
     "output_type": "stream",
     "text": [
      "100%|==========| 95/95 [00:29<00:00,  3.25it/s]\n",
      "  0%|          | 0/95 [00:00<?, ?it/s]"
     ]
    },
    {
     "name": "stdout",
     "output_type": "stream",
     "text": [
      "Epoch: 36/80\n",
      "train loss: 1.537828 - train accuracy: 0.9405\n",
      "val loss: 1.699958 - val accuracy: 0.9134\n"
     ]
    },
    {
     "name": "stderr",
     "output_type": "stream",
     "text": [
      "100%|==========| 95/95 [00:27<00:00,  3.46it/s]\n",
      "  0%|          | 0/95 [00:00<?, ?it/s]"
     ]
    },
    {
     "name": "stdout",
     "output_type": "stream",
     "text": [
      "Epoch: 37/80\n",
      "train loss: 1.546685 - train accuracy: 0.9319\n",
      "val loss: 1.717779 - val accuracy: 0.8970\n"
     ]
    },
    {
     "name": "stderr",
     "output_type": "stream",
     "text": [
      "100%|==========| 95/95 [00:27<00:00,  3.52it/s]\n",
      "  0%|          | 0/95 [00:00<?, ?it/s]"
     ]
    },
    {
     "name": "stdout",
     "output_type": "stream",
     "text": [
      "Epoch: 38/80\n",
      "train loss: 1.536666 - train accuracy: 0.9424\n",
      "val loss: 1.700495 - val accuracy: 0.9149\n"
     ]
    },
    {
     "name": "stderr",
     "output_type": "stream",
     "text": [
      "100%|==========| 95/95 [00:27<00:00,  3.47it/s]\n",
      "  0%|          | 0/95 [00:00<?, ?it/s]"
     ]
    },
    {
     "name": "stdout",
     "output_type": "stream",
     "text": [
      "Epoch: 39/80\n",
      "train loss: 1.536246 - train accuracy: 0.9427\n",
      "val loss: 1.690722 - val accuracy: 0.9224\n"
     ]
    },
    {
     "name": "stderr",
     "output_type": "stream",
     "text": [
      "100%|==========| 95/95 [00:26<00:00,  3.52it/s]\n",
      "  0%|          | 0/95 [00:00<?, ?it/s]"
     ]
    },
    {
     "name": "stdout",
     "output_type": "stream",
     "text": [
      "Epoch: 40/80\n",
      "train loss: 1.535649 - train accuracy: 0.9425\n",
      "val loss: 1.715586 - val accuracy: 0.9045\n"
     ]
    },
    {
     "name": "stderr",
     "output_type": "stream",
     "text": [
      "100%|==========| 95/95 [00:27<00:00,  3.49it/s]\n",
      "  0%|          | 0/95 [00:00<?, ?it/s]"
     ]
    },
    {
     "name": "stdout",
     "output_type": "stream",
     "text": [
      "Epoch: 41/80\n",
      "train loss: 1.538043 - train accuracy: 0.9405\n",
      "val loss: 1.717352 - val accuracy: 0.9015\n"
     ]
    },
    {
     "name": "stderr",
     "output_type": "stream",
     "text": [
      "100%|==========| 95/95 [00:27<00:00,  3.49it/s]\n",
      "  0%|          | 0/95 [00:00<?, ?it/s]"
     ]
    },
    {
     "name": "stdout",
     "output_type": "stream",
     "text": [
      "Epoch: 42/80\n",
      "train loss: 1.532045 - train accuracy: 0.9470\n",
      "val loss: 1.737005 - val accuracy: 0.8776\n"
     ]
    },
    {
     "name": "stderr",
     "output_type": "stream",
     "text": [
      "100%|==========| 95/95 [00:27<00:00,  3.47it/s]\n",
      "  0%|          | 0/95 [00:00<?, ?it/s]"
     ]
    },
    {
     "name": "stdout",
     "output_type": "stream",
     "text": [
      "Epoch: 43/80\n",
      "train loss: 1.542295 - train accuracy: 0.9367\n",
      "val loss: 1.695752 - val accuracy: 0.9209\n"
     ]
    },
    {
     "name": "stderr",
     "output_type": "stream",
     "text": [
      "100%|==========| 95/95 [00:27<00:00,  3.47it/s]\n",
      "  0%|          | 0/95 [00:00<?, ?it/s]"
     ]
    },
    {
     "name": "stdout",
     "output_type": "stream",
     "text": [
      "Epoch: 44/80\n",
      "train loss: 1.537568 - train accuracy: 0.9410\n",
      "val loss: 1.753920 - val accuracy: 0.8672\n"
     ]
    },
    {
     "name": "stderr",
     "output_type": "stream",
     "text": [
      "100%|==========| 95/95 [00:26<00:00,  3.54it/s]\n",
      "  0%|          | 0/95 [00:00<?, ?it/s]"
     ]
    },
    {
     "name": "stdout",
     "output_type": "stream",
     "text": [
      "Epoch: 45/80\n",
      "train loss: 1.546816 - train accuracy: 0.9319\n",
      "val loss: 1.702628 - val accuracy: 0.9104\n"
     ]
    },
    {
     "name": "stderr",
     "output_type": "stream",
     "text": [
      "100%|==========| 95/95 [00:27<00:00,  3.42it/s]\n",
      "  0%|          | 0/95 [00:00<?, ?it/s]"
     ]
    },
    {
     "name": "stdout",
     "output_type": "stream",
     "text": [
      "Epoch: 46/80\n",
      "train loss: 1.533498 - train accuracy: 0.9454\n",
      "val loss: 1.707917 - val accuracy: 0.9045\n"
     ]
    },
    {
     "name": "stderr",
     "output_type": "stream",
     "text": [
      "100%|==========| 95/95 [00:27<00:00,  3.49it/s]\n",
      "  0%|          | 0/95 [00:00<?, ?it/s]"
     ]
    },
    {
     "name": "stdout",
     "output_type": "stream",
     "text": [
      "Epoch: 47/80\n",
      "train loss: 1.538246 - train accuracy: 0.9400\n",
      "val loss: 1.705051 - val accuracy: 0.9090\n"
     ]
    },
    {
     "name": "stderr",
     "output_type": "stream",
     "text": [
      "100%|==========| 95/95 [00:27<00:00,  3.45it/s]\n",
      "  0%|          | 0/95 [00:00<?, ?it/s]"
     ]
    },
    {
     "name": "stdout",
     "output_type": "stream",
     "text": [
      "Epoch: 48/80\n",
      "train loss: 1.541099 - train accuracy: 0.9377\n",
      "val loss: 1.701476 - val accuracy: 0.9149\n"
     ]
    },
    {
     "name": "stderr",
     "output_type": "stream",
     "text": [
      "100%|==========| 95/95 [00:27<00:00,  3.44it/s]\n",
      "  0%|          | 0/95 [00:00<?, ?it/s]"
     ]
    },
    {
     "name": "stdout",
     "output_type": "stream",
     "text": [
      "Epoch: 49/80\n",
      "train loss: 1.534801 - train accuracy: 0.9439\n",
      "val loss: 1.683111 - val accuracy: 0.9284\n"
     ]
    },
    {
     "name": "stderr",
     "output_type": "stream",
     "text": [
      "100%|==========| 95/95 [00:27<00:00,  3.40it/s]\n",
      "  0%|          | 0/95 [00:00<?, ?it/s]"
     ]
    },
    {
     "name": "stdout",
     "output_type": "stream",
     "text": [
      "Epoch: 50/80\n",
      "train loss: 1.537717 - train accuracy: 0.9412\n",
      "val loss: 1.724753 - val accuracy: 0.8910\n"
     ]
    },
    {
     "name": "stderr",
     "output_type": "stream",
     "text": [
      "100%|==========| 95/95 [00:27<00:00,  3.49it/s]\n",
      "  0%|          | 0/95 [00:00<?, ?it/s]"
     ]
    },
    {
     "name": "stdout",
     "output_type": "stream",
     "text": [
      "Epoch: 51/80\n",
      "train loss: 1.548558 - train accuracy: 0.9317\n",
      "val loss: 1.732474 - val accuracy: 0.8836\n"
     ]
    },
    {
     "name": "stderr",
     "output_type": "stream",
     "text": [
      "100%|==========| 95/95 [00:30<00:00,  3.16it/s]\n",
      "  0%|          | 0/95 [00:00<?, ?it/s]"
     ]
    },
    {
     "name": "stdout",
     "output_type": "stream",
     "text": [
      "Epoch: 52/80\n",
      "train loss: 1.741344 - train accuracy: 0.7364\n",
      "val loss: 1.826932 - val accuracy: 0.7925\n"
     ]
    },
    {
     "name": "stderr",
     "output_type": "stream",
     "text": [
      "100%|==========| 95/95 [00:29<00:00,  3.21it/s]\n",
      "  0%|          | 0/95 [00:00<?, ?it/s]"
     ]
    },
    {
     "name": "stdout",
     "output_type": "stream",
     "text": [
      "Epoch: 53/80\n",
      "train loss: 1.685304 - train accuracy: 0.7929\n",
      "val loss: 1.808674 - val accuracy: 0.8075\n"
     ]
    },
    {
     "name": "stderr",
     "output_type": "stream",
     "text": [
      "100%|==========| 95/95 [00:26<00:00,  3.60it/s]\n",
      "  0%|          | 0/95 [00:00<?, ?it/s]"
     ]
    },
    {
     "name": "stdout",
     "output_type": "stream",
     "text": [
      "Epoch: 54/80\n",
      "train loss: 1.586587 - train accuracy: 0.8915\n",
      "val loss: 1.720019 - val accuracy: 0.8940\n"
     ]
    },
    {
     "name": "stderr",
     "output_type": "stream",
     "text": [
      "100%|==========| 95/95 [00:27<00:00,  3.48it/s]\n",
      "  0%|          | 0/95 [00:00<?, ?it/s]"
     ]
    },
    {
     "name": "stdout",
     "output_type": "stream",
     "text": [
      "Epoch: 55/80\n",
      "train loss: 1.557945 - train accuracy: 0.9203\n",
      "val loss: 1.742216 - val accuracy: 0.8746\n"
     ]
    },
    {
     "name": "stderr",
     "output_type": "stream",
     "text": [
      "100%|==========| 95/95 [00:27<00:00,  3.42it/s]\n",
      "  0%|          | 0/95 [00:00<?, ?it/s]"
     ]
    },
    {
     "name": "stdout",
     "output_type": "stream",
     "text": [
      "Epoch: 56/80\n",
      "train loss: 1.538260 - train accuracy: 0.9402\n",
      "val loss: 1.696190 - val accuracy: 0.9209\n"
     ]
    },
    {
     "name": "stderr",
     "output_type": "stream",
     "text": [
      "100%|==========| 95/95 [00:27<00:00,  3.45it/s]\n",
      "  0%|          | 0/95 [00:00<?, ?it/s]"
     ]
    },
    {
     "name": "stdout",
     "output_type": "stream",
     "text": [
      "Epoch: 57/80\n",
      "train loss: 1.530229 - train accuracy: 0.9485\n",
      "val loss: 1.708733 - val accuracy: 0.9045\n"
     ]
    },
    {
     "name": "stderr",
     "output_type": "stream",
     "text": [
      "100%|==========| 95/95 [00:33<00:00,  2.84it/s]\n",
      "  0%|          | 0/95 [00:00<?, ?it/s]"
     ]
    },
    {
     "name": "stdout",
     "output_type": "stream",
     "text": [
      "Epoch: 58/80\n",
      "train loss: 1.537713 - train accuracy: 0.9405\n",
      "val loss: 1.726980 - val accuracy: 0.8881\n"
     ]
    },
    {
     "name": "stderr",
     "output_type": "stream",
     "text": [
      "100%|==========| 95/95 [00:31<00:00,  3.03it/s]\n",
      "  0%|          | 0/95 [00:00<?, ?it/s]"
     ]
    },
    {
     "name": "stdout",
     "output_type": "stream",
     "text": [
      "Epoch: 59/80\n",
      "train loss: 1.536515 - train accuracy: 0.9422\n",
      "val loss: 1.703219 - val accuracy: 0.9090\n"
     ]
    },
    {
     "name": "stderr",
     "output_type": "stream",
     "text": [
      "100%|==========| 95/95 [00:26<00:00,  3.65it/s]\n",
      "  0%|          | 0/95 [00:00<?, ?it/s]"
     ]
    },
    {
     "name": "stdout",
     "output_type": "stream",
     "text": [
      "Epoch: 60/80\n",
      "train loss: 1.534420 - train accuracy: 0.9440\n",
      "val loss: 1.707491 - val accuracy: 0.9075\n"
     ]
    },
    {
     "name": "stderr",
     "output_type": "stream",
     "text": [
      "100%|==========| 95/95 [00:26<00:00,  3.62it/s]\n",
      "  0%|          | 0/95 [00:00<?, ?it/s]"
     ]
    },
    {
     "name": "stdout",
     "output_type": "stream",
     "text": [
      "Epoch: 61/80\n",
      "train loss: 1.533227 - train accuracy: 0.9449\n",
      "val loss: 1.709251 - val accuracy: 0.9060\n"
     ]
    },
    {
     "name": "stderr",
     "output_type": "stream",
     "text": [
      "100%|==========| 95/95 [00:27<00:00,  3.51it/s]\n",
      "  0%|          | 0/95 [00:00<?, ?it/s]"
     ]
    },
    {
     "name": "stdout",
     "output_type": "stream",
     "text": [
      "Epoch: 62/80\n",
      "train loss: 1.531987 - train accuracy: 0.9469\n",
      "val loss: 1.710002 - val accuracy: 0.9075\n"
     ]
    },
    {
     "name": "stderr",
     "output_type": "stream",
     "text": [
      "100%|==========| 95/95 [00:26<00:00,  3.59it/s]\n",
      "  0%|          | 0/95 [00:00<?, ?it/s]"
     ]
    },
    {
     "name": "stdout",
     "output_type": "stream",
     "text": [
      "Epoch: 63/80\n",
      "train loss: 1.538981 - train accuracy: 0.9397\n",
      "val loss: 1.734006 - val accuracy: 0.8821\n"
     ]
    },
    {
     "name": "stderr",
     "output_type": "stream",
     "text": [
      "100%|==========| 95/95 [00:31<00:00,  3.02it/s]\n",
      "  0%|          | 0/95 [00:00<?, ?it/s]"
     ]
    },
    {
     "name": "stdout",
     "output_type": "stream",
     "text": [
      "Epoch: 64/80\n",
      "train loss: 1.537720 - train accuracy: 0.9409\n",
      "val loss: 1.718783 - val accuracy: 0.8985\n"
     ]
    },
    {
     "name": "stderr",
     "output_type": "stream",
     "text": [
      "100%|==========| 95/95 [00:26<00:00,  3.60it/s]\n",
      "  0%|          | 0/95 [00:00<?, ?it/s]"
     ]
    },
    {
     "name": "stdout",
     "output_type": "stream",
     "text": [
      "Epoch: 65/80\n",
      "train loss: 1.534300 - train accuracy: 0.9440\n",
      "val loss: 1.732721 - val accuracy: 0.8881\n"
     ]
    },
    {
     "name": "stderr",
     "output_type": "stream",
     "text": [
      "100%|==========| 95/95 [00:25<00:00,  3.67it/s]\n",
      "  0%|          | 0/95 [00:00<?, ?it/s]"
     ]
    },
    {
     "name": "stdout",
     "output_type": "stream",
     "text": [
      "Epoch: 66/80\n",
      "train loss: 1.556273 - train accuracy: 0.9224\n",
      "val loss: 1.796793 - val accuracy: 0.8284\n"
     ]
    },
    {
     "name": "stderr",
     "output_type": "stream",
     "text": [
      "100%|==========| 95/95 [00:27<00:00,  3.45it/s]\n",
      "  0%|          | 0/95 [00:00<?, ?it/s]"
     ]
    },
    {
     "name": "stdout",
     "output_type": "stream",
     "text": [
      "Epoch: 67/80\n",
      "train loss: 1.569279 - train accuracy: 0.9093\n",
      "val loss: 1.719266 - val accuracy: 0.8970\n"
     ]
    },
    {
     "name": "stderr",
     "output_type": "stream",
     "text": [
      "100%|==========| 95/95 [00:27<00:00,  3.49it/s]\n",
      "  0%|          | 0/95 [00:00<?, ?it/s]"
     ]
    },
    {
     "name": "stdout",
     "output_type": "stream",
     "text": [
      "Epoch: 68/80\n",
      "train loss: 1.552163 - train accuracy: 0.9268\n",
      "val loss: 1.764087 - val accuracy: 0.8597\n"
     ]
    },
    {
     "name": "stderr",
     "output_type": "stream",
     "text": [
      "100%|==========| 95/95 [00:27<00:00,  3.48it/s]\n",
      "  0%|          | 0/95 [00:00<?, ?it/s]"
     ]
    },
    {
     "name": "stdout",
     "output_type": "stream",
     "text": [
      "Epoch: 69/80\n",
      "train loss: 1.553551 - train accuracy: 0.9249\n",
      "val loss: 1.705388 - val accuracy: 0.9090\n"
     ]
    },
    {
     "name": "stderr",
     "output_type": "stream",
     "text": [
      "100%|==========| 95/95 [00:26<00:00,  3.57it/s]\n",
      "  0%|          | 0/95 [00:00<?, ?it/s]"
     ]
    },
    {
     "name": "stdout",
     "output_type": "stream",
     "text": [
      "Epoch: 70/80\n",
      "train loss: 1.527340 - train accuracy: 0.9512\n",
      "val loss: 1.727638 - val accuracy: 0.8940\n"
     ]
    },
    {
     "name": "stderr",
     "output_type": "stream",
     "text": [
      "100%|==========| 95/95 [00:26<00:00,  3.58it/s]\n",
      "  0%|          | 0/95 [00:00<?, ?it/s]"
     ]
    },
    {
     "name": "stdout",
     "output_type": "stream",
     "text": [
      "Epoch: 71/80\n",
      "train loss: 1.547622 - train accuracy: 0.9311\n",
      "val loss: 1.713120 - val accuracy: 0.9000\n"
     ]
    },
    {
     "name": "stderr",
     "output_type": "stream",
     "text": [
      "100%|==========| 95/95 [00:27<00:00,  3.49it/s]\n",
      "  0%|          | 0/95 [00:00<?, ?it/s]"
     ]
    },
    {
     "name": "stdout",
     "output_type": "stream",
     "text": [
      "Epoch: 72/80\n",
      "train loss: 1.533320 - train accuracy: 0.9454\n",
      "val loss: 1.693728 - val accuracy: 0.9194\n"
     ]
    },
    {
     "name": "stderr",
     "output_type": "stream",
     "text": [
      "100%|==========| 95/95 [00:26<00:00,  3.53it/s]\n",
      "  0%|          | 0/95 [00:00<?, ?it/s]"
     ]
    },
    {
     "name": "stdout",
     "output_type": "stream",
     "text": [
      "Epoch: 73/80\n",
      "train loss: 1.530262 - train accuracy: 0.9483\n",
      "val loss: 1.694592 - val accuracy: 0.9179\n"
     ]
    },
    {
     "name": "stderr",
     "output_type": "stream",
     "text": [
      "100%|==========| 95/95 [00:26<00:00,  3.54it/s]\n",
      "  0%|          | 0/95 [00:00<?, ?it/s]"
     ]
    },
    {
     "name": "stdout",
     "output_type": "stream",
     "text": [
      "Epoch: 74/80\n",
      "train loss: 1.534609 - train accuracy: 0.9440\n",
      "val loss: 1.719627 - val accuracy: 0.8970\n"
     ]
    },
    {
     "name": "stderr",
     "output_type": "stream",
     "text": [
      "100%|==========| 95/95 [00:26<00:00,  3.59it/s]\n",
      "  0%|          | 0/95 [00:00<?, ?it/s]"
     ]
    },
    {
     "name": "stdout",
     "output_type": "stream",
     "text": [
      "Epoch: 75/80\n",
      "train loss: 1.540906 - train accuracy: 0.9376\n",
      "val loss: 1.707465 - val accuracy: 0.9090\n"
     ]
    },
    {
     "name": "stderr",
     "output_type": "stream",
     "text": [
      "100%|==========| 95/95 [00:28<00:00,  3.32it/s]\n",
      "  0%|          | 0/95 [00:00<?, ?it/s]"
     ]
    },
    {
     "name": "stdout",
     "output_type": "stream",
     "text": [
      "Epoch: 76/80\n",
      "train loss: 1.553523 - train accuracy: 0.9251\n",
      "val loss: 1.695136 - val accuracy: 0.9179\n"
     ]
    },
    {
     "name": "stderr",
     "output_type": "stream",
     "text": [
      "100%|==========| 95/95 [00:26<00:00,  3.62it/s]\n",
      "  0%|          | 0/95 [00:00<?, ?it/s]"
     ]
    },
    {
     "name": "stdout",
     "output_type": "stream",
     "text": [
      "Epoch: 77/80\n",
      "train loss: 1.549822 - train accuracy: 0.9286\n",
      "val loss: 1.758107 - val accuracy: 0.8687\n"
     ]
    },
    {
     "name": "stderr",
     "output_type": "stream",
     "text": [
      "100%|==========| 95/95 [00:26<00:00,  3.61it/s]\n",
      "  0%|          | 0/95 [00:00<?, ?it/s]"
     ]
    },
    {
     "name": "stdout",
     "output_type": "stream",
     "text": [
      "Epoch: 78/80\n",
      "train loss: 1.552483 - train accuracy: 0.9263\n",
      "val loss: 1.803745 - val accuracy: 0.8209\n"
     ]
    },
    {
     "name": "stderr",
     "output_type": "stream",
     "text": [
      "100%|==========| 95/95 [00:27<00:00,  3.52it/s]\n",
      "  0%|          | 0/95 [00:00<?, ?it/s]"
     ]
    },
    {
     "name": "stdout",
     "output_type": "stream",
     "text": [
      "Epoch: 79/80\n",
      "train loss: 1.576328 - train accuracy: 0.9023\n",
      "val loss: 1.794460 - val accuracy: 0.8269\n"
     ]
    },
    {
     "name": "stderr",
     "output_type": "stream",
     "text": [
      "100%|==========| 95/95 [00:26<00:00,  3.54it/s]\n"
     ]
    },
    {
     "name": "stdout",
     "output_type": "stream",
     "text": [
      "Epoch: 80/80\n",
      "train loss: 1.560770 - train accuracy: 0.9180\n",
      "val loss: 1.746338 - val accuracy: 0.8716\n",
      "The model took 2527.36s for training : \n"
     ]
    }
   ],
   "source": [
    "# train and check the time of training\n",
    "start_time = time.time()\n",
    "history = train_model(model, optimizer, criterion, train_loader, val_loader, 80)\n",
    "end_time = time.time()\n",
    "print(\"The model took {:.2f}s for training : \".format(end_time - start_time))"
   ]
  },
  {
   "cell_type": "code",
   "execution_count": 15,
   "metadata": {},
   "outputs": [
    {
     "data": {
      "image/png": "[encoded data removed]",
      "text/plain": [
       "<Figure size 432x288 with 1 Axes>"
      ]
     },
     "metadata": {
      "needs_background": "light"
     },
     "output_type": "display_data"
    }
   ],
   "source": [
    "plt.plot(history[\"train_loss\"], label=\"train_loss\")\n",
    "plt.plot(history[\"val_loss\"], label=\"val_loss\")\n",
    "plt.title(\"Training and validation loss\")\n",
    "plt.xlabel(\"Epoch \")\n",
    "plt.ylabel(\"Loss\")\n",
    "plt.legend(loc=\"best\")\n",
    "plt.show()"
   ]
  },
  {
   "cell_type": "code",
   "execution_count": 16,
   "metadata": {},
   "outputs": [
    {
     "data": {
      "image/png": "[encoded data removed]",
      "text/plain": [
       "<Figure size 432x288 with 1 Axes>"
      ]
     },
     "metadata": {
      "needs_background": "light"
     },
     "output_type": "display_data"
    }
   ],
   "source": [
    "plt.plot(history[\"train_acc\"], label=\"train_acc\")\n",
    "plt.plot(history[\"val_acc\"], label=\"val_acc\")\n",
    "plt.title(\"Training and validation accuray\")\n",
    "plt.xlabel(\"Epoch \")\n",
    "plt.ylabel(\"Accuracy\")\n",
    "plt.legend(loc=\"best\")\n",
    "plt.show()"
   ]
  },
  {
   "cell_type": "markdown",
   "metadata": {},
   "source": [
    "## 4. Evaluate the model"
   ]
  },
  {
   "cell_type": "code",
   "execution_count": 17,
   "metadata": {},
   "outputs": [],
   "source": [
    "# define the function to evaluate the model\n",
    "def evaluate(data_loader):\n",
    "    # forbide the computation of grandient: autograd\n",
    "    with torch.no_grad():\n",
    "        # set the model in evaluation mode\n",
    "        model.eval()\n",
    "        pred_targets = []\n",
    "        for data, _ in tqdm(data_loader,  ascii =\"  ...=\"):\n",
    "            data = data.to(device)\n",
    "            pred_target = model(data)\n",
    "            pred_targets.extend(pred_target.argmax(axis=1).cpu().numpy())\n",
    "    return pred_targets"
   ]
  },
  {
   "cell_type": "code",
   "execution_count": 23,
   "metadata": {},
   "outputs": [
    {
     "name": "stderr",
     "output_type": "stream",
     "text": [
      "100%|==========| 13/13 [00:02<00:00,  4.87it/s]"
     ]
    },
    {
     "name": "stdout",
     "output_type": "stream",
     "text": [
      "                                               precision    recall  f1-score   support\n",
      "\n",
      "                      Tomato___Bacterial_spot       0.90      0.98      0.94        85\n",
      "                        Tomato___Early_blight       0.70      0.88      0.78        81\n",
      "                         Tomato___Late_blight       0.91      0.51      0.65        83\n",
      "                           Tomato___Leaf_Mold       0.89      0.73      0.80        74\n",
      "                  Tomato___Septoria_leaf_spot       0.75      0.88      0.81        86\n",
      "Tomato___Spider_mites Two-spotted_spider_mite       0.65      0.93      0.76        83\n",
      "                         Tomato___Target_Spot       0.00      0.00      0.00        77\n",
      "       Tomato___Tomato_Yellow_Leaf_Curl_Virus       0.88      0.95      0.91        77\n",
      "                 Tomato___Tomato_mosaic_virus       0.91      0.96      0.93        81\n",
      "                             Tomato___healthy       0.66      0.96      0.78        79\n",
      "\n",
      "                                     accuracy                           0.78       806\n",
      "                                    macro avg       0.72      0.78      0.74       806\n",
      "                                 weighted avg       0.73      0.78      0.74       806\n",
      "\n"
     ]
    },
    {
     "name": "stderr",
     "output_type": "stream",
     "text": [
      "\n",
      "C:\\Users\\Admin\\anaconda3\\lib\\site-packages\\sklearn\\metrics\\_classification.py:1245: UndefinedMetricWarning: Precision and F-score are ill-defined and being set to 0.0 in labels with no predicted samples. Use `zero_division` parameter to control this behavior.\n",
      "  _warn_prf(average, modifier, msg_start, len(result))\n",
      "C:\\Users\\Admin\\anaconda3\\lib\\site-packages\\sklearn\\metrics\\_classification.py:1245: UndefinedMetricWarning: Precision and F-score are ill-defined and being set to 0.0 in labels with no predicted samples. Use `zero_division` parameter to control this behavior.\n",
      "  _warn_prf(average, modifier, msg_start, len(result))\n",
      "C:\\Users\\Admin\\anaconda3\\lib\\site-packages\\sklearn\\metrics\\_classification.py:1245: UndefinedMetricWarning: Precision and F-score are ill-defined and being set to 0.0 in labels with no predicted samples. Use `zero_division` parameter to control this behavior.\n",
      "  _warn_prf(average, modifier, msg_start, len(result))\n"
     ]
    }
   ],
   "source": [
    "# display metrics\n",
    "from sklearn.metrics import classification_report, confusion_matrix\n",
    "import seaborn as sns\n",
    "import numpy as np\n",
    "targets_hat = evaluate(test_loader)\n",
    "print(classification_report(test_data.targets, np.array(targets_hat), target_names=test_data.classes))"
   ]
  },
  {
   "cell_type": "code",
   "execution_count": 27,
   "metadata": {},
   "outputs": [
    {
     "data": {
      "text/plain": [
       "<AxesSubplot:>"
      ]
     },
     "execution_count": 27,
     "metadata": {},
     "output_type": "execute_result"
    },
    {
     "data": {
      "image/png": "[encoded data removed]",
      "text/plain": [
       "<Figure size 432x288 with 2 Axes>"
      ]
     },
     "metadata": {
      "needs_background": "light"
     },
     "output_type": "display_data"
    }
   ],
   "source": [
    "sns.heatmap(confusion_matrix(test_data.targets, targets_hat), \n",
    "             xticklabels=test_data.classes,\n",
    "             yticklabels=test_data.classes,\n",
    "             cmap='RdBu_r',\n",
    "             annot=True,\n",
    "             linewidth=0.5)\n"
   ]
  }
 ],
 "metadata": {
  "kernelspec": {
   "display_name": "Python 3",
   "language": "python",
   "name": "python3"
  },
  "language_info": {
   "codemirror_mode": {
    "name": "ipython",
    "version": 3
   },
   "file_extension": ".py",
   "mimetype": "text/x-python",
   "name": "python",
   "nbconvert_exporter": "python",
   "pygments_lexer": "ipython3",
   "version": "3.8.8"
  }
 },
 "nbformat": 4,
 "nbformat_minor": 4
}
